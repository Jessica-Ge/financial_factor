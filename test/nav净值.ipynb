{
 "cells": [
  {
   "cell_type": "code",
   "execution_count": 2,
   "id": "a42ff58a",
   "metadata": {},
   "outputs": [],
   "source": [
    "import pandas as pd\n",
    "import numpy as np\n",
    "import statsmodels.api as sm\n",
    "import matplotlib\n",
    "import matplotlib.pyplot as plt\n",
    "import seaborn as sns\n",
    "import datetime\n",
    "import sys\n",
    "import os\n",
    "from tqdm import tqdm\n",
    "from matplotlib.colors import LinearSegmentedColormap\n",
    "\n",
    "from plottable import ColumnDefinition, Table\n",
    "from plottable.cmap import normed_cmap, centered_cmap\n",
    "from plottable.formatters import decimal_to_percent\n",
    "from plottable.plots import circled_image\n",
    "\n",
    "# sns.set_theme(style='darkgrid')  # 图形主题\n",
    "custom_params = {\"axes.spines.right\": False, \"axes.spines.top\": False}\n",
    "sns.set_theme(style=\"ticks\", rc=custom_params)\n",
    "plt.rcParams['font.sans-serif'] = ['KaiTi']  # 用来正常显示中文标签\n",
    "plt.rcParams['axes.unicode_minus'] = False  # 用来正常显示负号\n",
    "plt.rcParams[\"savefig.bbox\"] = \"tight\"  # 图形保存时去除白边\n",
    "\n",
    "from utils import BacktestUtils, PerfUtils, FactorProcess\n",
    "\n",
    "import warnings\n",
    "warnings.filterwarnings(\"ignore\")"
   ]
  },
  {
   "cell_type": "code",
   "execution_count": 3,
   "id": "568d4484",
   "metadata": {},
   "outputs": [],
   "source": [
    "stock_close = pd.read_pickle(r'D:\\Desktop\\营业利润财务质量\\data\\test_close_day')\n",
    "stock_open = pd.read_pickle(r'D:\\Desktop\\营业利润财务质量\\data\\test_open_day')"
   ]
  },
  {
   "cell_type": "code",
   "execution_count": 4,
   "id": "00516fd8",
   "metadata": {},
   "outputs": [],
   "source": [
    "# 个股收盘价\n",
    "stock_close.index = pd.to_datetime(stock_close.index, format=\"%Y%m%d\")\n",
    "# 个股开盘价\n",
    "stock_open.index = pd.to_datetime(stock_open.index, format=\"%Y%m%d\")\n",
    "\n",
    "# 日频交易日期\n",
    "daily_dates = stock_open.index.tolist()\n",
    "# 所有日频交易日期序列\n",
    "date_series = pd.Series(daily_dates, index=daily_dates)"
   ]
  },
  {
   "cell_type": "markdown",
   "id": "a40a5271",
   "metadata": {},
   "source": [
    "# 因子评价"
   ]
  },
  {
   "cell_type": "code",
   "execution_count": 11,
   "id": "2a3a3d77",
   "metadata": {},
   "outputs": [],
   "source": [
    "factor_name= ['基于营业利润计算过程的财务质量因子']\n",
    "factors_dict = pd.read_pickle(\"D:/Desktop/营业利润财务质量/data/财务质量因子mini\")"
   ]
  },
  {
   "cell_type": "markdown",
   "id": "b1144520",
   "metadata": {},
   "source": [
    "for key, value in factors_dict.items():"
   ]
  },
  {
   "cell_type": "code",
   "execution_count": null,
   "id": "b1158020",
   "metadata": {},
   "outputs": [],
   "source": [
    "为什么只有一个股？应该是第一个因子----Yes"
   ]
  },
  {
   "cell_type": "markdown",
   "id": "15d9d15b",
   "metadata": {},
   "source": [
    "eval_model.factor_eval"
   ]
  },
  {
   "cell_type": "code",
   "execution_count": 12,
   "id": "bec5fb28",
   "metadata": {},
   "outputs": [
    {
     "name": "stdout",
     "output_type": "stream",
     "text": [
      "因子预处理: Winsorize\n",
      "因子预处理: Normalize\n"
     ]
    }
   ],
   "source": [
    "factor_orig = factors_dict.loc[daily_dates[0]:daily_dates[-1], :]\n",
    "factor_orig = factor_orig.dropna(how='all', axis=1)\n",
    "factor_orig = factor_orig.dropna(how='all', axis=0)\n",
    "factor_orig = factor_orig.replace([np.inf, -np.inf], np.nan)\n",
    "\n",
    "# 因子预处理\n",
    "print('因子预处理: Winsorize')\n",
    "factor_processed = FactorProcess.winsorize(factor_orig)\n",
    "print('因子预处理: Normalize')\n",
    "factor_processed = FactorProcess.normalize(factor_processed)\n"
   ]
  },
  {
   "cell_type": "markdown",
   "id": "cb4c8440",
   "metadata": {},
   "source": [
    "分层回测"
   ]
  },
  {
   "cell_type": "markdown",
   "id": "bc322e39",
   "metadata": {},
   "source": [
    "eval_model.factor_eval.clsfy_backtest"
   ]
  },
  {
   "cell_type": "code",
   "execution_count": 42,
   "id": "ed851bf5",
   "metadata": {},
   "outputs": [],
   "source": [
    "origin_factor = factor_processed\n",
    "freq='M'\n",
    "start_date='2012-04-30'\n",
    "end_date=factor_processed.index[-1]\n",
    "layer_number = 2"
   ]
  },
  {
   "cell_type": "code",
   "execution_count": 17,
   "id": "e5b95e6c",
   "metadata": {},
   "outputs": [],
   "source": [
    "# 回测净值\n",
    "nav = pd.DataFrame(columns=['分层1', '分层2', '基准',\n",
    "                            '分层1相对净值', '分层2相对净值'])"
   ]
  },
  {
   "cell_type": "markdown",
   "id": "9ef1571a",
   "metadata": {},
   "source": [
    "merge_factor是分层？---Q：每一层的权重矩阵，不包含在该层的权重为0"
   ]
  },
  {
   "cell_type": "code",
   "execution_count": 43,
   "id": "3fc990fc",
   "metadata": {},
   "outputs": [],
   "source": [
    "merge_factor = origin_factor.resample(freq).last().copy()\n",
    "merge_factor = merge_factor.fillna(method='bfill', axis=0)\n",
    "merge_factor = merge_factor.dropna(how='all')\n",
    "\n",
    "# 当指标给定的最后一个日期大于最后一个交易日时（月末容易出现）\n",
    "# 最后一个交易信号无法调仓\n",
    "if merge_factor.index[-1] >= daily_dates[-1]:\n",
    "    merge_factor = merge_factor.drop(index=merge_factor.index[-1])\n",
    "    \n",
    "# 调仓日期为生成信号的下一天，即月度初的第一个交易日\n",
    "daily_dates = pd.Series(data=daily_dates, index=daily_dates)\n",
    "merge_factor.index = [daily_dates[daily_dates > i].index[0] for i in merge_factor.index]\n",
    "\n",
    "# 指标进行排序\n",
    "merge_factor_rank = merge_factor.rank(method='average', ascending=False, axis=1)\n",
    "\n",
    "# 各层持仓权重\n",
    "port = []"
   ]
  },
  {
   "cell_type": "markdown",
   "id": "caa1a6ca",
   "metadata": {},
   "source": [
    "回测,计算策略净值"
   ]
  },
  {
   "cell_type": "markdown",
   "id": "0354ed00",
   "metadata": {},
   "source": [
    "划分各层归属"
   ]
  },
  {
   "cell_type": "code",
   "execution_count": 4,
   "id": "371afdc9",
   "metadata": {},
   "outputs": [
    {
     "name": "stderr",
     "output_type": "stream",
     "text": [
      "\r",
      "分层回测中:   0%|                                                                                     | 0/5 [00:00<?, ?it/s]"
     ]
    },
    {
     "name": "stdout",
     "output_type": "stream",
     "text": [
      "0\n",
      "1\n",
      "2\n",
      "3\n",
      "4\n"
     ]
    },
    {
     "name": "stderr",
     "output_type": "stream",
     "text": [
      "                                                                                                                       \r"
     ]
    }
   ],
   "source": [
    "for layer_id in tqdm(range(layer_number), desc='分层回测中', leave=False):\n",
    "    "
   ]
  },
  {
   "cell_type": "markdown",
   "id": "fed18bda",
   "metadata": {},
   "source": [
    "测试第一层"
   ]
  },
  {
   "cell_type": "code",
   "execution_count": 37,
   "id": "24717a2e",
   "metadata": {},
   "outputs": [],
   "source": [
    "layer_id = 0"
   ]
  },
  {
   "cell_type": "markdown",
   "id": "2b7fb755",
   "metadata": {},
   "source": [
    "方案2: 仅从存在因子值的股票中进行分层, 每层股票数在不同调仓期可能会改变"
   ]
  },
  {
   "cell_type": "code",
   "execution_count": 44,
   "id": "3a690a43",
   "metadata": {},
   "outputs": [],
   "source": [
    "thres_up = 1 / layer_number * (layer_id + 1)  #该层占所有股票的权重的上限\n",
    "thres_down = 1 / layer_number * layer_id      #该层占所有股票的权重的下限\n",
    "\n",
    "factor_layer = pd.DataFrame(np.zeros_like(merge_factor.values), index=merge_factor.index,\n",
    "                                    columns=merge_factor.columns)\n",
    "#选出哪些股票属于这一层，左开右闭\n",
    "factor_layer[(merge_factor_rank.apply(lambda x: x > x.max() * thres_down, axis=1)) &\n",
    "                 (merge_factor_rank.apply(lambda x: x <= x.max() * thres_up, axis=1))] = 1\n",
    "\n",
    "# 全为零行替换为全仓=均仓\n",
    "factor_layer[(factor_layer == 0).sum(axis=1) == factor_layer.shape[1]] = 1 / factor_layer.shape[1]\n",
    "\n",
    "# 空值替换为全仓\n",
    "factor_layer[factor_layer.isnull().sum(axis=1) == factor_layer.shape[1]] = 1 / factor_layer.shape[1]\n",
    "\n",
    "# 无因子值的股票权重置为0\n",
    "factor_layer[merge_factor_rank.isnull()] = 0\n",
    "\n",
    "# 持仓归一化\n",
    "factor_layer = (factor_layer.multiply(1 / factor_layer.sum(axis=1), axis=0)).loc[start_date:end_date, :]\n",
    "\n",
    "port.append(factor_layer)"
   ]
  },
  {
   "cell_type": "code",
   "execution_count": 45,
   "id": "83f159b2",
   "metadata": {},
   "outputs": [
    {
     "data": {
      "text/html": [
       "<div>\n",
       "<style scoped>\n",
       "    .dataframe tbody tr th:only-of-type {\n",
       "        vertical-align: middle;\n",
       "    }\n",
       "\n",
       "    .dataframe tbody tr th {\n",
       "        vertical-align: top;\n",
       "    }\n",
       "\n",
       "    .dataframe thead th {\n",
       "        text-align: right;\n",
       "    }\n",
       "</style>\n",
       "<table border=\"1\" class=\"dataframe\">\n",
       "  <thead>\n",
       "    <tr style=\"text-align: right;\">\n",
       "      <th>S_INFO_WINDCODE</th>\n",
       "      <th>000004.SZ</th>\n",
       "      <th>000005.SZ</th>\n",
       "      <th>000007.SZ</th>\n",
       "      <th>000008.SZ</th>\n",
       "      <th>000009.SZ</th>\n",
       "    </tr>\n",
       "  </thead>\n",
       "  <tbody>\n",
       "    <tr>\n",
       "      <th>2012-05-02</th>\n",
       "      <td>0.0</td>\n",
       "      <td>0.5</td>\n",
       "      <td>0.0</td>\n",
       "      <td>0.0</td>\n",
       "      <td>0.5</td>\n",
       "    </tr>\n",
       "    <tr>\n",
       "      <th>2012-06-01</th>\n",
       "      <td>0.0</td>\n",
       "      <td>0.5</td>\n",
       "      <td>0.0</td>\n",
       "      <td>0.0</td>\n",
       "      <td>0.5</td>\n",
       "    </tr>\n",
       "    <tr>\n",
       "      <th>2012-07-02</th>\n",
       "      <td>0.0</td>\n",
       "      <td>0.5</td>\n",
       "      <td>0.0</td>\n",
       "      <td>0.0</td>\n",
       "      <td>0.5</td>\n",
       "    </tr>\n",
       "    <tr>\n",
       "      <th>2012-08-01</th>\n",
       "      <td>0.0</td>\n",
       "      <td>0.5</td>\n",
       "      <td>0.0</td>\n",
       "      <td>0.0</td>\n",
       "      <td>0.5</td>\n",
       "    </tr>\n",
       "    <tr>\n",
       "      <th>2012-09-03</th>\n",
       "      <td>0.0</td>\n",
       "      <td>0.5</td>\n",
       "      <td>0.0</td>\n",
       "      <td>0.0</td>\n",
       "      <td>0.5</td>\n",
       "    </tr>\n",
       "    <tr>\n",
       "      <th>2012-10-08</th>\n",
       "      <td>0.0</td>\n",
       "      <td>0.5</td>\n",
       "      <td>0.0</td>\n",
       "      <td>0.0</td>\n",
       "      <td>0.5</td>\n",
       "    </tr>\n",
       "    <tr>\n",
       "      <th>2012-11-01</th>\n",
       "      <td>0.0</td>\n",
       "      <td>0.5</td>\n",
       "      <td>0.0</td>\n",
       "      <td>0.0</td>\n",
       "      <td>0.5</td>\n",
       "    </tr>\n",
       "    <tr>\n",
       "      <th>2012-12-03</th>\n",
       "      <td>0.0</td>\n",
       "      <td>0.5</td>\n",
       "      <td>0.0</td>\n",
       "      <td>0.0</td>\n",
       "      <td>0.5</td>\n",
       "    </tr>\n",
       "    <tr>\n",
       "      <th>2013-01-04</th>\n",
       "      <td>0.0</td>\n",
       "      <td>0.5</td>\n",
       "      <td>0.0</td>\n",
       "      <td>0.0</td>\n",
       "      <td>0.5</td>\n",
       "    </tr>\n",
       "    <tr>\n",
       "      <th>2013-02-01</th>\n",
       "      <td>0.0</td>\n",
       "      <td>0.5</td>\n",
       "      <td>0.0</td>\n",
       "      <td>0.0</td>\n",
       "      <td>0.5</td>\n",
       "    </tr>\n",
       "    <tr>\n",
       "      <th>2013-03-01</th>\n",
       "      <td>0.0</td>\n",
       "      <td>0.5</td>\n",
       "      <td>0.0</td>\n",
       "      <td>0.0</td>\n",
       "      <td>0.5</td>\n",
       "    </tr>\n",
       "    <tr>\n",
       "      <th>2013-04-01</th>\n",
       "      <td>0.0</td>\n",
       "      <td>0.5</td>\n",
       "      <td>0.0</td>\n",
       "      <td>0.0</td>\n",
       "      <td>0.5</td>\n",
       "    </tr>\n",
       "    <tr>\n",
       "      <th>2013-05-02</th>\n",
       "      <td>0.0</td>\n",
       "      <td>0.5</td>\n",
       "      <td>0.0</td>\n",
       "      <td>0.0</td>\n",
       "      <td>0.5</td>\n",
       "    </tr>\n",
       "    <tr>\n",
       "      <th>2013-06-03</th>\n",
       "      <td>0.0</td>\n",
       "      <td>0.5</td>\n",
       "      <td>0.0</td>\n",
       "      <td>0.0</td>\n",
       "      <td>0.5</td>\n",
       "    </tr>\n",
       "    <tr>\n",
       "      <th>2013-07-01</th>\n",
       "      <td>0.0</td>\n",
       "      <td>0.5</td>\n",
       "      <td>0.0</td>\n",
       "      <td>0.0</td>\n",
       "      <td>0.5</td>\n",
       "    </tr>\n",
       "    <tr>\n",
       "      <th>2013-08-01</th>\n",
       "      <td>0.0</td>\n",
       "      <td>0.5</td>\n",
       "      <td>0.0</td>\n",
       "      <td>0.0</td>\n",
       "      <td>0.5</td>\n",
       "    </tr>\n",
       "    <tr>\n",
       "      <th>2013-09-02</th>\n",
       "      <td>0.0</td>\n",
       "      <td>0.5</td>\n",
       "      <td>0.0</td>\n",
       "      <td>0.0</td>\n",
       "      <td>0.5</td>\n",
       "    </tr>\n",
       "    <tr>\n",
       "      <th>2013-10-08</th>\n",
       "      <td>0.0</td>\n",
       "      <td>0.5</td>\n",
       "      <td>0.0</td>\n",
       "      <td>0.0</td>\n",
       "      <td>0.5</td>\n",
       "    </tr>\n",
       "    <tr>\n",
       "      <th>2013-11-01</th>\n",
       "      <td>0.0</td>\n",
       "      <td>0.5</td>\n",
       "      <td>0.0</td>\n",
       "      <td>0.0</td>\n",
       "      <td>0.5</td>\n",
       "    </tr>\n",
       "    <tr>\n",
       "      <th>2013-12-02</th>\n",
       "      <td>0.0</td>\n",
       "      <td>0.5</td>\n",
       "      <td>0.0</td>\n",
       "      <td>0.0</td>\n",
       "      <td>0.5</td>\n",
       "    </tr>\n",
       "    <tr>\n",
       "      <th>2014-01-02</th>\n",
       "      <td>0.0</td>\n",
       "      <td>0.5</td>\n",
       "      <td>0.0</td>\n",
       "      <td>0.0</td>\n",
       "      <td>0.5</td>\n",
       "    </tr>\n",
       "    <tr>\n",
       "      <th>2014-02-07</th>\n",
       "      <td>0.0</td>\n",
       "      <td>0.5</td>\n",
       "      <td>0.0</td>\n",
       "      <td>0.0</td>\n",
       "      <td>0.5</td>\n",
       "    </tr>\n",
       "    <tr>\n",
       "      <th>2014-03-03</th>\n",
       "      <td>0.0</td>\n",
       "      <td>0.5</td>\n",
       "      <td>0.0</td>\n",
       "      <td>0.0</td>\n",
       "      <td>0.5</td>\n",
       "    </tr>\n",
       "    <tr>\n",
       "      <th>2014-04-01</th>\n",
       "      <td>0.0</td>\n",
       "      <td>0.5</td>\n",
       "      <td>0.0</td>\n",
       "      <td>0.0</td>\n",
       "      <td>0.5</td>\n",
       "    </tr>\n",
       "    <tr>\n",
       "      <th>2014-05-05</th>\n",
       "      <td>0.0</td>\n",
       "      <td>0.5</td>\n",
       "      <td>0.0</td>\n",
       "      <td>0.0</td>\n",
       "      <td>0.5</td>\n",
       "    </tr>\n",
       "    <tr>\n",
       "      <th>2014-06-03</th>\n",
       "      <td>0.0</td>\n",
       "      <td>0.5</td>\n",
       "      <td>0.0</td>\n",
       "      <td>0.0</td>\n",
       "      <td>0.5</td>\n",
       "    </tr>\n",
       "    <tr>\n",
       "      <th>2014-07-01</th>\n",
       "      <td>0.0</td>\n",
       "      <td>0.5</td>\n",
       "      <td>0.0</td>\n",
       "      <td>0.0</td>\n",
       "      <td>0.5</td>\n",
       "    </tr>\n",
       "    <tr>\n",
       "      <th>2014-08-01</th>\n",
       "      <td>0.0</td>\n",
       "      <td>0.5</td>\n",
       "      <td>0.0</td>\n",
       "      <td>0.0</td>\n",
       "      <td>0.5</td>\n",
       "    </tr>\n",
       "    <tr>\n",
       "      <th>2014-09-01</th>\n",
       "      <td>0.0</td>\n",
       "      <td>0.5</td>\n",
       "      <td>0.0</td>\n",
       "      <td>0.0</td>\n",
       "      <td>0.5</td>\n",
       "    </tr>\n",
       "    <tr>\n",
       "      <th>2014-10-08</th>\n",
       "      <td>0.0</td>\n",
       "      <td>0.5</td>\n",
       "      <td>0.0</td>\n",
       "      <td>0.0</td>\n",
       "      <td>0.5</td>\n",
       "    </tr>\n",
       "    <tr>\n",
       "      <th>2014-11-03</th>\n",
       "      <td>0.0</td>\n",
       "      <td>0.5</td>\n",
       "      <td>0.0</td>\n",
       "      <td>0.0</td>\n",
       "      <td>0.5</td>\n",
       "    </tr>\n",
       "    <tr>\n",
       "      <th>2014-12-01</th>\n",
       "      <td>0.0</td>\n",
       "      <td>0.5</td>\n",
       "      <td>0.0</td>\n",
       "      <td>0.0</td>\n",
       "      <td>0.5</td>\n",
       "    </tr>\n",
       "  </tbody>\n",
       "</table>\n",
       "</div>"
      ],
      "text/plain": [
       "S_INFO_WINDCODE  000004.SZ  000005.SZ  000007.SZ  000008.SZ  000009.SZ\n",
       "2012-05-02             0.0        0.5        0.0        0.0        0.5\n",
       "2012-06-01             0.0        0.5        0.0        0.0        0.5\n",
       "2012-07-02             0.0        0.5        0.0        0.0        0.5\n",
       "2012-08-01             0.0        0.5        0.0        0.0        0.5\n",
       "2012-09-03             0.0        0.5        0.0        0.0        0.5\n",
       "2012-10-08             0.0        0.5        0.0        0.0        0.5\n",
       "2012-11-01             0.0        0.5        0.0        0.0        0.5\n",
       "2012-12-03             0.0        0.5        0.0        0.0        0.5\n",
       "2013-01-04             0.0        0.5        0.0        0.0        0.5\n",
       "2013-02-01             0.0        0.5        0.0        0.0        0.5\n",
       "2013-03-01             0.0        0.5        0.0        0.0        0.5\n",
       "2013-04-01             0.0        0.5        0.0        0.0        0.5\n",
       "2013-05-02             0.0        0.5        0.0        0.0        0.5\n",
       "2013-06-03             0.0        0.5        0.0        0.0        0.5\n",
       "2013-07-01             0.0        0.5        0.0        0.0        0.5\n",
       "2013-08-01             0.0        0.5        0.0        0.0        0.5\n",
       "2013-09-02             0.0        0.5        0.0        0.0        0.5\n",
       "2013-10-08             0.0        0.5        0.0        0.0        0.5\n",
       "2013-11-01             0.0        0.5        0.0        0.0        0.5\n",
       "2013-12-02             0.0        0.5        0.0        0.0        0.5\n",
       "2014-01-02             0.0        0.5        0.0        0.0        0.5\n",
       "2014-02-07             0.0        0.5        0.0        0.0        0.5\n",
       "2014-03-03             0.0        0.5        0.0        0.0        0.5\n",
       "2014-04-01             0.0        0.5        0.0        0.0        0.5\n",
       "2014-05-05             0.0        0.5        0.0        0.0        0.5\n",
       "2014-06-03             0.0        0.5        0.0        0.0        0.5\n",
       "2014-07-01             0.0        0.5        0.0        0.0        0.5\n",
       "2014-08-01             0.0        0.5        0.0        0.0        0.5\n",
       "2014-09-01             0.0        0.5        0.0        0.0        0.5\n",
       "2014-10-08             0.0        0.5        0.0        0.0        0.5\n",
       "2014-11-03             0.0        0.5        0.0        0.0        0.5\n",
       "2014-12-01             0.0        0.5        0.0        0.0        0.5"
      ]
     },
     "execution_count": 45,
     "metadata": {},
     "output_type": "execute_result"
    }
   ],
   "source": [
    "factor_layer   #第一层"
   ]
  },
  {
   "cell_type": "markdown",
   "id": "1a65ae99",
   "metadata": {},
   "source": [
    "回测,计算策略净值"
   ]
  },
  {
   "cell_type": "markdown",
   "id": "fd502aff",
   "metadata": {},
   "source": [
    "eval_model.factor_eval.clsfy_backtest.BacktestUtils.cal_nav"
   ]
  },
  {
   "cell_type": "code",
   "execution_count": 87,
   "id": "069f2b93",
   "metadata": {},
   "outputs": [],
   "source": [
    "from utils import BacktestUtilsOpenClose"
   ]
  },
  {
   "cell_type": "code",
   "execution_count": 89,
   "id": "b9bed77d",
   "metadata": {},
   "outputs": [],
   "source": [
    "nav[f'分层{layer_id + 1}'], _ = BacktestUtilsOpenClose.cal_nav(factor_layer,\n",
    "                                                    stock_open.loc[start_date:end_date,\n",
    "                                                    factor_layer.columns],\n",
    "                                                    stock_close.loc[start_date:end_date,\n",
    "                                                    factor_layer.columns],  \n",
    "                                                    base_nav=0,\n",
    "                                                    fee=0)"
   ]
  },
  {
   "cell_type": "code",
   "execution_count": 90,
   "id": "ced5c8ac",
   "metadata": {},
   "outputs": [
    {
     "data": {
      "text/plain": [
       "2012-05-02 00:00:00                                             0.924037\n",
       "2012-05-03 00:00:00                                             0.918839\n",
       "2012-05-04 00:00:00                                                  NaN\n",
       "2012-05-07 00:00:00                                                  NaN\n",
       "2012-05-08 00:00:00                                                  NaN\n",
       "                                             ...                        \n",
       "2014-12-26 00:00:00                                                  NaN\n",
       "2014-12-29 00:00:00                                                  NaN\n",
       "2014-12-30 00:00:00                                                  NaN\n",
       "2014-12-31 00:00:00                                                  NaN\n",
       "分层1                    2012-05-02    1.000000\n",
       "2012-05-03    0.994375\n",
       "...\n",
       "Name: 策略, Length: 652, dtype: object"
      ]
     },
     "execution_count": 90,
     "metadata": {},
     "output_type": "execute_result"
    }
   ],
   "source": [
    "nav"
   ]
  },
  {
   "cell_type": "markdown",
   "id": "e27f20a5",
   "metadata": {},
   "source": [
    "# 拆分debug  cal_nav"
   ]
  },
  {
   "cell_type": "code",
   "execution_count": 52,
   "id": "06648bd0",
   "metadata": {},
   "outputs": [],
   "source": [
    "df_port = factor_layer  #调仓矩阵，行索引为调仓日期，列索引为所有股票\n",
    "backtest_open = stock_open.loc[start_date:end_date,factor_layer.columns]   #回测区间所有股票的开盘价\n",
    "backtest_close = stock_close.loc[start_date:end_date,factor_layer.columns]   #回测区间所有股票的收盘价\n",
    "fee = 0"
   ]
  },
  {
   "cell_type": "code",
   "execution_count": 53,
   "id": "8db29dfa",
   "metadata": {},
   "outputs": [],
   "source": [
    "# 获取所有调仓日期\n",
    "refresh_dates = df_port.index.tolist()\n",
    "\n",
    "# 节选出回测区间内的开盘价\n",
    "backtest_open = backtest_open.loc[refresh_dates[0]:,:]\n",
    "\n",
    "# 节选出回测区间内的收盘价，改成前一天的收盘价\n",
    "backtest_close = backtest_close.loc[refresh_dates[0]:,:]\n",
    "\n",
    "# 获取回测区间日频交易日\n",
    "backtest_dates = backtest_open.index.tolist()\n",
    "\n",
    "# nav：该层总净值。初始化净值曲线，从正式调仓日开始\n",
    "nav = pd.Series(index=backtest_dates, name='策略', dtype=float)\n",
    "\n",
    "# 初始化换手率记录，有手续费时，换手率必须计算\n",
    "turn = pd.Series(index=refresh_dates, name='当期换手', dtype=float)\n"
   ]
  },
  {
   "cell_type": "code",
   "execution_count": null,
   "id": "21fc505f",
   "metadata": {},
   "outputs": [],
   "source": [
    "# 遍历每个日期\n",
    "for date_index in range(len(backtest_dates)):"
   ]
  },
  {
   "cell_type": "code",
   "execution_count": 75,
   "id": "5b6f036b",
   "metadata": {},
   "outputs": [],
   "source": [
    "date_index = 1"
   ]
  },
  {
   "cell_type": "code",
   "execution_count": 76,
   "id": "eefa7cc2",
   "metadata": {},
   "outputs": [],
   "source": [
    "# -----------------------------------------------------------------\n",
    "# 获取对应日期\n",
    "# -----------------------------------------------------------------\n",
    "date = backtest_dates[date_index]"
   ]
  },
  {
   "cell_type": "code",
   "execution_count": 77,
   "id": "6abdbc98",
   "metadata": {},
   "outputs": [
    {
     "data": {
      "text/plain": [
       "False"
      ]
     },
     "execution_count": 77,
     "metadata": {},
     "output_type": "execute_result"
    }
   ],
   "source": [
    "# 如果是回测期首日，则执行初次建仓\n",
    "date_index == 0"
   ]
  },
  {
   "cell_type": "code",
   "execution_count": 63,
   "id": "165ca7bb",
   "metadata": {},
   "outputs": [],
   "source": [
    "# 获取当前调仓权重\n",
    "new_weight = df_port.loc[date,:]\n",
    "\n",
    "# portfolio：持仓个股净值。计算当前持仓个股净值，考虑第一次调仓的手续费\n",
    "portfolio = (1 - fee) * new_weight\n",
    "\n",
    "# 记录净值\n",
    "nav[date] = 1 - fee"
   ]
  },
  {
   "cell_type": "markdown",
   "id": "73e2fef2",
   "metadata": {},
   "source": [
    "每到一个日期，都根据个股涨跌幅更新组合净值，将日期计数器自增1"
   ]
  },
  {
   "cell_type": "code",
   "execution_count": 78,
   "id": "9ce6a963",
   "metadata": {},
   "outputs": [],
   "source": [
    "# 当天开盘价\n",
    "cur_open = backtest_open.iloc[date_index, :]\n",
    "\n",
    "# 上一天的收盘价\n",
    "prev_close = backtest_close.iloc[date_index-1, :]\n",
    "\n",
    "# 判断最新的开盘价是否存在空值\n",
    "cur_open_nan = cur_open[cur_open.isna()].index"
   ]
  },
  {
   "cell_type": "code",
   "execution_count": 79,
   "id": "adb3c142",
   "metadata": {},
   "outputs": [],
   "source": [
    "# 当存在持有资产价格为空的情况时，重新计算权重分布，剔除此种资产\n",
    "# 此种情况很少见，不做细节处理\n",
    "if np.nansum(portfolio[cur_open_nan])> 0:\n",
    "\n",
    "    # 提取前一个日期\n",
    "    prev_date = backtest_dates[date_index-1]\n",
    "\n",
    "    # 归一化当前持仓中个股权重, 空值记为0\n",
    "    old_weight = portfolio / np.nansum(np.abs(portfolio))\n",
    "    old_weight[old_weight.isnull()] = 0\n",
    "\n",
    "    # 获取最新的持仓权重\n",
    "    new_weight = old_weight.copy()\n",
    "    new_weight[cur_open_nan]=0\n",
    "\n",
    "    # 归一化当前持仓中个股权重, 空值记为0\n",
    "    new_weight = new_weight / np.nansum(np.abs(new_weight))\n",
    "    new_weight[new_weight.isnull()] = 0\n",
    "\n",
    "    # 直接按照新的持仓组合分配权重\n",
    "    portfolio = new_weight * nav[prev_date]\n"
   ]
  },
  {
   "cell_type": "code",
   "execution_count": 80,
   "id": "214fb6a7",
   "metadata": {},
   "outputs": [],
   "source": [
    "# 根据涨跌幅更新组合净值\n",
    "portfolio = cur_open / prev_close * portfolio\n",
    "\n",
    "# 未持有资产时，组合净值维持不变\n",
    "if np.nansum(portfolio) == 0:\n",
    "    nav[date] = nav.iloc[backtest_dates.index(date) - 1]\n",
    "else:\n",
    "    nav[date] = np.nansum(portfolio)"
   ]
  },
  {
   "cell_type": "code",
   "execution_count": 81,
   "id": "b00070c6",
   "metadata": {},
   "outputs": [
    {
     "data": {
      "text/plain": [
       "2012-05-02    0.924037\n",
       "2012-05-03    0.918839\n",
       "2012-05-04         NaN\n",
       "2012-05-07         NaN\n",
       "2012-05-08         NaN\n",
       "                ...   \n",
       "2014-12-25         NaN\n",
       "2014-12-26         NaN\n",
       "2014-12-29         NaN\n",
       "2014-12-30         NaN\n",
       "2014-12-31         NaN\n",
       "Name: 策略, Length: 651, dtype: float64"
      ]
     },
     "execution_count": 81,
     "metadata": {},
     "output_type": "execute_result"
    }
   ],
   "source": [
    "nav"
   ]
  },
  {
   "cell_type": "code",
   "execution_count": null,
   "id": "624f2a74",
   "metadata": {},
   "outputs": [],
   "source": [
    "# 如果当前是调仓日，还需执行调仓操作\n",
    "if date in refresh_dates:"
   ]
  },
  {
   "cell_type": "code",
   "execution_count": 71,
   "id": "b49dfcfc",
   "metadata": {},
   "outputs": [],
   "source": [
    "# 归一化当前持仓中个股权重\n",
    "old_weight = portfolio / np.nansum(np.abs(portfolio))\n",
    "old_weight[old_weight.isnull()] = 0\n",
    "\n",
    "# 获取最新的持仓权重\n",
    "new_weight = df_port.loc[date,:]\n",
    "\n",
    "# 计算换手率，最小为0，也即不换仓，最大为2，也就是全部换仓\n",
    "turn_over = np.sum(np.abs(new_weight - old_weight))\n",
    "turn[date] = turn_over / 2\n",
    "\n",
    "# 更新换仓后的净值，也即扣除手续费\n",
    "nav[date] = nav[date] * (1 - turn_over * fee)\n",
    "\n",
    "# 更新持仓组合中个股的最新净值\n",
    "portfolio = new_weight * nav[date]"
   ]
  },
  {
   "cell_type": "code",
   "execution_count": 72,
   "id": "0d1cf631",
   "metadata": {},
   "outputs": [
    {
     "data": {
      "text/plain": [
       "2012-05-02    0.924037\n",
       "2012-05-03         NaN\n",
       "2012-05-04         NaN\n",
       "2012-05-07         NaN\n",
       "2012-05-08         NaN\n",
       "                ...   \n",
       "2014-12-25         NaN\n",
       "2014-12-26         NaN\n",
       "2014-12-29         NaN\n",
       "2014-12-30         NaN\n",
       "2014-12-31         NaN\n",
       "Name: 策略, Length: 651, dtype: float64"
      ]
     },
     "execution_count": 72,
     "metadata": {},
     "output_type": "execute_result"
    }
   ],
   "source": [
    "nav"
   ]
  }
 ],
 "metadata": {
  "kernelspec": {
   "display_name": "Python 3",
   "language": "python",
   "name": "python3"
  },
  "language_info": {
   "codemirror_mode": {
    "name": "ipython",
    "version": 3
   },
   "file_extension": ".py",
   "mimetype": "text/x-python",
   "name": "python",
   "nbconvert_exporter": "python",
   "pygments_lexer": "ipython3",
   "version": "3.7.3"
  }
 },
 "nbformat": 4,
 "nbformat_minor": 5
}
